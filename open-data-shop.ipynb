{
 "cells": [
  {
   "cell_type": "code",
   "execution_count": 1,
   "metadata": {},
   "outputs": [
    {
     "data": {
      "text/plain": [
       "'/Users/heebunny/Downloads/dataitgirls/open-data-shop'"
      ]
     },
     "execution_count": 1,
     "metadata": {},
     "output_type": "execute_result"
    }
   ],
   "source": [
    "%pwd"
   ]
  },
  {
   "cell_type": "code",
   "execution_count": 2,
   "metadata": {},
   "outputs": [
    {
     "name": "stdout",
     "output_type": "stream",
     "text": [
      "total 32\r\n",
      "drwxr-xr-x   8 heebunny  staff   256  8  9 15:38 \u001b[34m.\u001b[m\u001b[m/\r\n",
      "drwxr-xr-x  10 heebunny  staff   320  8  9 14:47 \u001b[34m..\u001b[m\u001b[m/\r\n",
      "-rw-r--r--@  1 heebunny  staff  6148  8  9 15:26 .DS_Store\r\n",
      "drwxr-xr-x  15 heebunny  staff   480  8  9 15:39 \u001b[34m.git\u001b[m\u001b[m/\r\n",
      "-rw-r--r--@  1 heebunny  staff    35  8  9 15:12 .gitignore\r\n",
      "drwxr-xr-x   3 heebunny  staff    96  8  9 15:38 \u001b[34m.ipynb_checkpoints\u001b[m\u001b[m/\r\n",
      "drwx------@  6 heebunny  staff   192  8  9 14:52 \u001b[34mdata\u001b[m\u001b[m/\r\n",
      "-rw-r--r--   1 heebunny  staff   555  8  9 15:38 open-data-shop.ipynb\r\n"
     ]
    }
   ],
   "source": [
    "%ls -al"
   ]
  },
  {
   "cell_type": "code",
   "execution_count": 3,
   "metadata": {},
   "outputs": [
    {
     "name": "stdout",
     "output_type": "stream",
     "text": [
      "\u001b[31m소상공인시장진흥공단_상가업소정보_201806_01.csv\u001b[m\u001b[m*\r\n",
      "\u001b[31m소상공인시장진흥공단_상가업소정보_201806_02.csv\u001b[m\u001b[m*\r\n",
      "\u001b[31m소상공인시장진흥공단_상가업소정보_201806_03.csv\u001b[m\u001b[m*\r\n",
      "\u001b[31m소상공인시장진흥공단_상가업소정보_201806_04.csv\u001b[m\u001b[m*\r\n"
     ]
    }
   ],
   "source": [
    "%ls data"
   ]
  },
  {
   "cell_type": "code",
   "execution_count": 4,
   "metadata": {},
   "outputs": [],
   "source": [
    "import pandas as pd"
   ]
  },
  {
   "cell_type": "code",
   "execution_count": 6,
   "metadata": {},
   "outputs": [],
   "source": [
    "df_shop = pd.read_csv('data/소상공인시장진흥공단_상가업소정보_201806_01.csv', encoding='cp949')"
   ]
  },
  {
   "cell_type": "code",
   "execution_count": 7,
   "metadata": {},
   "outputs": [
    {
     "data": {
      "text/plain": [
       "(476183, 39)"
      ]
     },
     "execution_count": 7,
     "metadata": {},
     "output_type": "execute_result"
    }
   ],
   "source": [
    "df_shop.shape"
   ]
  },
  {
   "cell_type": "code",
   "execution_count": null,
   "metadata": {},
   "outputs": [],
   "source": []
  }
 ],
 "metadata": {
  "kernelspec": {
   "display_name": "Python 3",
   "language": "python",
   "name": "python3"
  },
  "language_info": {
   "codemirror_mode": {
    "name": "ipython",
    "version": 3
   },
   "file_extension": ".py",
   "mimetype": "text/x-python",
   "name": "python",
   "nbconvert_exporter": "python",
   "pygments_lexer": "ipython3",
   "version": "3.6.5"
  }
 },
 "nbformat": 4,
 "nbformat_minor": 2
}
